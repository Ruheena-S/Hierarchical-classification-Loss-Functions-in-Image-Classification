{
  "metadata": {
    "kernelspec": {
      "language": "python",
      "display_name": "Python 3",
      "name": "python3"
    },
    "language_info": {
      "name": "python",
      "version": "3.7.12",
      "mimetype": "text/x-python",
      "codemirror_mode": {
        "name": "ipython",
        "version": 3
      },
      "pygments_lexer": "ipython3",
      "nbconvert_exporter": "python",
      "file_extension": ".py"
    },
    "colab": {
      "provenance": [],
      "include_colab_link": true
    },
    "accelerator": "GPU",
    "gpuClass": "standard"
  },
  "nbformat_minor": 0,
  "nbformat": 4,
  "cells": [
    {
      "cell_type": "markdown",
      "metadata": {
        "id": "view-in-github",
        "colab_type": "text"
      },
      "source": [
        "<a href=\"https://colab.research.google.com/github/Ruheena-S/Hierarchical-classification-Loss-Functions-in-Image-Classification/blob/main/BEP_cifar100_ResNet18.ipynb\" target=\"_parent\"><img src=\"https://colab.research.google.com/assets/colab-badge.svg\" alt=\"Open In Colab\"/></a>"
      ]
    },
    {
      "cell_type": "code",
      "source": [
        "!pip3 install torch_optimizer torchmetrics\n",
        "!nvidia-smi"
      ],
      "metadata": {
        "id": "uo6ktQJuCy9a",
        "execution": {
          "iopub.status.busy": "2022-09-22T11:44:00.995194Z",
          "iopub.execute_input": "2022-09-22T11:44:00.996055Z",
          "iopub.status.idle": "2022-09-22T11:44:11.989875Z",
          "shell.execute_reply.started": "2022-09-22T11:44:00.995991Z",
          "shell.execute_reply": "2022-09-22T11:44:11.988711Z"
        },
        "trusted": true,
        "colab": {
          "base_uri": "https://localhost:8080/"
        },
        "outputId": "bae2bd12-768d-4a0e-f2e1-10759a5b4f58"
      },
      "execution_count": null,
      "outputs": [
        {
          "output_type": "stream",
          "name": "stdout",
          "text": [
            "Looking in indexes: https://pypi.org/simple, https://us-python.pkg.dev/colab-wheels/public/simple/\n",
            "Requirement already satisfied: torch_optimizer in /usr/local/lib/python3.9/dist-packages (0.3.0)\n",
            "Requirement already satisfied: torchmetrics in /usr/local/lib/python3.9/dist-packages (0.11.4)\n",
            "Requirement already satisfied: pytorch-ranger>=0.1.1 in /usr/local/lib/python3.9/dist-packages (from torch_optimizer) (0.1.1)\n",
            "Requirement already satisfied: torch>=1.5.0 in /usr/local/lib/python3.9/dist-packages (from torch_optimizer) (1.13.1+cu116)\n",
            "Requirement already satisfied: packaging in /usr/local/lib/python3.9/dist-packages (from torchmetrics) (23.0)\n",
            "Requirement already satisfied: numpy>=1.17.2 in /usr/local/lib/python3.9/dist-packages (from torchmetrics) (1.22.4)\n",
            "Requirement already satisfied: typing-extensions in /usr/local/lib/python3.9/dist-packages (from torch>=1.5.0->torch_optimizer) (4.5.0)\n",
            "Mon Mar 13 14:20:42 2023       \n",
            "+-----------------------------------------------------------------------------+\n",
            "| NVIDIA-SMI 525.85.12    Driver Version: 525.85.12    CUDA Version: 12.0     |\n",
            "|-------------------------------+----------------------+----------------------+\n",
            "| GPU  Name        Persistence-M| Bus-Id        Disp.A | Volatile Uncorr. ECC |\n",
            "| Fan  Temp  Perf  Pwr:Usage/Cap|         Memory-Usage | GPU-Util  Compute M. |\n",
            "|                               |                      |               MIG M. |\n",
            "|===============================+======================+======================|\n",
            "|   0  Tesla T4            Off  | 00000000:00:04.0 Off |                    0 |\n",
            "| N/A   52C    P0    27W /  70W |   2339MiB / 15360MiB |      0%      Default |\n",
            "|                               |                      |                  N/A |\n",
            "+-------------------------------+----------------------+----------------------+\n",
            "                                                                               \n",
            "+-----------------------------------------------------------------------------+\n",
            "| Processes:                                                                  |\n",
            "|  GPU   GI   CI        PID   Type   Process name                  GPU Memory |\n",
            "|        ID   ID                                                   Usage      |\n",
            "|=============================================================================|\n",
            "+-----------------------------------------------------------------------------+\n"
          ]
        }
      ]
    },
    {
      "cell_type": "code",
      "source": [
        "import numpy as np\n",
        "import torch\n",
        "import torch.nn as nn\n",
        "import sys\n",
        "import torch.nn.functional as F\n",
        "from torch_optimizer import Ranger\n",
        "from torchvision import datasets\n",
        "import torch.optim as optim\n",
        "from torchvision import transforms,models\n",
        "from torch.utils.data.sampler import SubsetRandomSampler\n",
        "from torch.utils.data.dataloader import DataLoader\n",
        "from torch.utils.data import random_split\n",
        "from torchmetrics import Accuracy\n",
        "from torch.optim.lr_scheduler import CyclicLR\n",
        "\n",
        "torch.manual_seed(43)"
      ],
      "metadata": {
        "execution": {
          "iopub.status.busy": "2022-09-22T11:44:11.992770Z",
          "iopub.execute_input": "2022-09-22T11:44:11.993214Z",
          "iopub.status.idle": "2022-09-22T11:44:12.003379Z",
          "shell.execute_reply.started": "2022-09-22T11:44:11.993167Z",
          "shell.execute_reply": "2022-09-22T11:44:12.002225Z"
        },
        "trusted": true,
        "colab": {
          "base_uri": "https://localhost:8080/"
        },
        "id": "DOPALF9ZGcX9",
        "outputId": "1ef70d97-91a6-407a-9a5a-a1aaf10ea16a"
      },
      "execution_count": null,
      "outputs": [
        {
          "output_type": "execute_result",
          "data": {
            "text/plain": [
              "<torch._C.Generator at 0x7f07b8a2feb0>"
            ]
          },
          "metadata": {},
          "execution_count": 22
        }
      ]
    },
    {
      "cell_type": "code",
      "source": [
        "from google.colab import drive\n",
        "drive.mount('/content/drive')"
      ],
      "metadata": {
        "id": "G6o7WCE_Se0j",
        "colab": {
          "base_uri": "https://localhost:8080/"
        },
        "outputId": "a46d82a2-5c89-4907-dc64-7e48230bf405"
      },
      "execution_count": null,
      "outputs": [
        {
          "output_type": "stream",
          "name": "stdout",
          "text": [
            "Drive already mounted at /content/drive; to attempt to forcibly remount, call drive.mount(\"/content/drive\", force_remount=True).\n"
          ]
        }
      ]
    },
    {
      "cell_type": "code",
      "source": [
        "# Device configuration\n",
        "device = torch.device('cuda' if torch.cuda.is_available() else 'cpu')\n",
        "print(device)"
      ],
      "metadata": {
        "id": "XgUAGcwJC6JY",
        "outputId": "cc3a4d06-6f78-4758-8200-746cda3282dc",
        "execution": {
          "iopub.status.busy": "2022-09-22T11:44:12.005385Z",
          "iopub.execute_input": "2022-09-22T11:44:12.005829Z",
          "iopub.status.idle": "2022-09-22T11:44:12.017283Z",
          "shell.execute_reply.started": "2022-09-22T11:44:12.005710Z",
          "shell.execute_reply": "2022-09-22T11:44:12.015947Z"
        },
        "trusted": true,
        "colab": {
          "base_uri": "https://localhost:8080/"
        }
      },
      "execution_count": null,
      "outputs": [
        {
          "output_type": "stream",
          "name": "stdout",
          "text": [
            "cuda\n"
          ]
        }
      ]
    },
    {
      "cell_type": "code",
      "source": [
        "#Tree Hierarchy of the labels\n",
        "\n",
        "Tree = {\"entity\" : [\"nature\", \"manmade\"] , \"nature\":[\"flora\", \"bigAnimals\", \"smallAnimals\", \"aquaticAnimals\", \"scenes\"], \"manmade\" : [\"householdElectrical\", \"householdFurniture\", \"foodContainers\", \"vehicles1\",\"vehicles2\",\"largeManmadeOutdoorThings\"],\n",
        "        \"flora\": [\"fruitsAndVegetables\",\"flowers\",\"trees\"],\"bigAnimals\": [\"largeCarnivores\", \"largeOmniAndHerbivores\", \"people\", \"mediumSizedMammals\"],\"smallAnimals\":[\"smallMammals\", \"reptiles\", \"insects\", \"nonInsectInvertebrates\"], \"aquaticAnimals\":[\"aquaticMammals\", \"fish\"],\"scenes\":[\"cloud\",\"forest\",\"mountain\",\"plain\",\"sea\"],\n",
        "        \"householdElectrical\":[\"clock\", \"keyboard\", \"lamp\", \"telephone\", \"television\"], \"householdFurniture\":[\"bed\", \"chair\", \"couch\", \"table\", \"wardrobe\"],\"foodContainers\":[\"bottle\", \"bowl\", \"can\", \"cup\", \"plate\"], \"vehicles1\":[\"bicycle\", \"bus\", \"motorcycle\", \"pickup_truck\", \"train\"],\"vehicles2\":[\"lawn_mower\", \"rocket\", \"streetcar\", \"tank\", \"tractor\"],\"largeManmadeOutdoorThings\":[\"bridge\", \"castle\", \"house\", \"road\", \"skyscraper\"],\n",
        "        \"flowers\":[\"orchid\", \"poppy\", \"rose\", \"sunflower\", \"tulip\"],\"fruitsAndVegetables\":[\"apple\", \"mushroom\", \"orange\", \"pear\", \"sweet_pepper\"],\"trees\":[\"maple_tree\", \"oak_tree\", \"palm_tree\", \"pine_tree\", \"willow_tree\"],\"largeCarnivores\":[\"bear\", \"leopard\", \"lion\", \"tiger\", \"wolf\"],\"largeOmniAndHerbivores\":[\"camel\", \"cattle\", \"chimpanzee\", \"elephant\", \"kangaroo\"],\"people\":[\"baby\", \"boy\", \"girl\", \"man\", \"woman\"],\n",
        "        \"mediumSizedMammals\":[\"fox\", \"porcupine\", \"possum\", \"raccoon\", \"skunk\"],\"smallMammals\":[\"hamster\", \"mouse\", \"rabbit\", \"shrew\", \"squirrel\"],\"reptiles\":[\"crocodile\", \"dinosaur\", \"lizard\", \"snake\", \"turtle\"],\"insects\":[\"bee\", \"beetle\", \"butterfly\", \"caterpillar\", \"cockroach\"],\"nonInsectInvertebrates\":[\"crab\", \"lobster\", \"snail\", \"spider\", \"worm\"],\"aquaticMammals\":[\"beaver\", \"dolphin\", \"otter\", \"seal\", \"whale\"],\n",
        "        \"fish\":[\"aquarium_fish\", \"flatfish\", \"ray\", \"shark\", \"trout\"]}\n",
        "\n",
        "labels = [\"apple\",\"aquarium_fish\",\"baby\",\"bear\",\"beaver\",\"bed\",\"bee\",\"beetle\",\"bicycle\",\"bottle\",\"bowl\",\"boy\",\"bridge\",\"bus\",\"butterfly\",\"camel\",\"can\",\"castle\",\"caterpillar\",\"cattle\",\"chair\",\"chimpanzee\",\"clock\",\"cloud\",\"cockroach\",\"couch\",\"crab\",\"crocodile\",\"cup\",\"dinosaur\",\"dolphin\",\"elephant\",\"flatfish\",\"forest\",\"fox\",\"girl\",\"hamster\",\"house\",\"kangaroo\",\"keyboard\",\"lamp\",\"lawn_mower\",\"leopard\",\"lion\",\"lizard\",\"lobster\",\"man\",\"maple_tree\",\"motorcycle\",\"mountain\",\"mouse\",\"mushroom\",\"oak_tree\",\"orange\",\"orchid\",\"otter\",\"palm_tree\",\"pear\",\"pickup_truck\",\"pine_tree\",\"plain\",\"plate\",\"poppy\",\"porcupine\",\"possum\",\"rabbit\",\"raccoon\",\"ray\",\"road\",\"rocket\",\"rose\",\"sea\",\"seal\",\"shark\",\"shrew\",\"skunk\",\"skyscraper\",\"snail\",\"snake\",\"spider\",\"squirrel\",\"streetcar\",\"sunflower\",\"sweet_pepper\",\"table\",\"tank\",\"telephone\",\"television\",\"tiger\",\"tractor\",\"train\",\"trout\",\"tulip\",\"turtle\",\"wardrobe\",\"whale\",\"willow_tree\",\"wolf\",\"woman\",\"worm\", \"flowers\",\"fruitsAndVegetables\", \"trees\", \"largeCarnivores\", \"largeOmniAndHerbivores\", \"people\", \"mediumSizedMammals\", \"smallMammals\", \"reptiles\", \"insects\", \"nonInsectInvertebrates\", \"aquaticMammals\", \"fish\", \"flora\", \"bigAnimals\", \"smallAnimals\",\"aquaticAnimals\", \"scenes\", \"householdElectrical\", \"householdFurniture\", \"foodContainers\", \"vehicles1\", \"vehicles2\", \"largeManmadeOutdoorThings\", \"nature\" ,\"manmade\", \"entity\"]\n"
      ],
      "metadata": {
        "id": "1ZWEkJ2ADbbl",
        "execution": {
          "iopub.status.busy": "2022-09-22T11:44:12.020752Z",
          "iopub.execute_input": "2022-09-22T11:44:12.021191Z",
          "iopub.status.idle": "2022-09-22T11:44:12.036888Z",
          "shell.execute_reply.started": "2022-09-22T11:44:12.021149Z",
          "shell.execute_reply": "2022-09-22T11:44:12.035579Z"
        },
        "trusted": true
      },
      "execution_count": null,
      "outputs": []
    },
    {
      "cell_type": "code",
      "source": [
        "#Level-wise representation of labels\n",
        "\n",
        "level = [None]*5\n",
        "\n",
        "level[0] = [\"entity\"]\n",
        "level[1] = [\"nature\", \"manmade\"]\n",
        "level[2] = [\"flora\", \"bigAnimals\", \"smallAnimals\", \"aquaticAnimals\", \"scenes\", \"householdElectrical\", \"householdFurniture\",\"foodContainers\", \"vehicles1\", \"vehicles2\",\"largeManmadeOutdoorThings\"]\n",
        "level[3] = [\"flowers\", \"fruitsAndVegetables\", \"trees\", \"largeCarnivores\", \"largeOmniAndHerbivores\", \"people\", \"mediumSizedMammals\", \"smallMammals\", \"reptiles\", \"insects\", \"nonInsectInvertebrates\", \"aquaticMammals\", \"fish\", \"cloud\", \"forest\", \"mountain\", \"plain\", \"sea\", \"clock\", \"keyboard\", \"lamp\", \"telephone\", \"television\", \"bed\", \"chair\", \"couch\", \"table\", \"wardrobe\", \"bottle\", \"bowl\", \"can\", \"cup\", \"plate\", \"bicycle\", \"bus\", \"motorcycle\", \"pickup_truck\", \"train\", \"lawn_mower\", \"rocket\", \"streetcar\", \"tank\", \"tractor\", \"bridge\", \"castle\", \"house\", \"road\", \"skyscraper\"]\n",
        "level[4] = [\"orchid\", \"poppy\", \"rose\", \"sunflower\", \"tulip\", \"apple\", \"mushroom\", \"orange\", \"pear\", \"sweet_pepper\", \"maple_tree\", \"oak_tree\", \"palm_tree\", \"pine_tree\", \"willow_tree\", \"bear\", \"leopard\", \"lion\", \"tiger\", \"wolf\", \"camel\", \"cattle\", \"chimpanzee\", \"elephant\", \"kangaroo\", \"baby\", \"boy\", \"girl\", \"man\", \"woman\", \"fox\", \"porcupine\", \"possum\", \"raccoon\", \"skunk\", \"hamster\", \"mouse\", \"rabbit\", \"shrew\", \"squirrel\", \"crocodile\", \"dinosaur\", \"lizard\", \"snake\", \"turtle\", \"bee\", \"beetle\", \"butterfly\", \"caterpillar\", \"cockroach\", \"crab\", \"lobster\", \"snail\", \"spider\", \"worm\", \"beaver\", \"dolphin\", \"otter\", \"seal\", \"whale\", \"aquarium_fish\", \"flatfish\", \"ray\", \"shark\", \"trout\"]\n",
        "\n",
        "\n",
        "nodesAtLevel = []*5\n",
        "nodesAtLevel.append(1)\n",
        "nodesAtLevel.append(2)\n",
        "nodesAtLevel.append(11)\n",
        "nodesAtLevel.append(48)\n",
        "nodesAtLevel.append(65)\n",
        "\n",
        "logNodesAtLevel = []*5\n",
        "logNodesAtLevel.append(1)\n",
        "logNodesAtLevel.append(1)\n",
        "logNodesAtLevel.append(4)\n",
        "logNodesAtLevel.append(6)\n",
        "logNodesAtLevel.append(7)\n"
      ],
      "metadata": {
        "id": "YCUB1YHuDio_",
        "execution": {
          "iopub.status.busy": "2022-09-22T11:44:12.038418Z",
          "iopub.execute_input": "2022-09-22T11:44:12.038801Z",
          "iopub.status.idle": "2022-09-22T11:44:12.052732Z",
          "shell.execute_reply.started": "2022-09-22T11:44:12.038765Z",
          "shell.execute_reply": "2022-09-22T11:44:12.051799Z"
        },
        "trusted": true
      },
      "execution_count": null,
      "outputs": []
    },
    {
      "cell_type": "code",
      "source": [
        "# Input    - class label of the CIFAR100 dataset\n",
        "# Function - To find the level of the given class label\n",
        "# output   - Returns an integer which represents the level of the class label and returns -1 if it doesn't belong to any level\n",
        "def get_level(node):\n",
        "  if (node in level[0]):\n",
        "    return 0\n",
        "  elif (node in level[1]):\n",
        "    return 1\n",
        "  elif (node in level[2]):\n",
        "    return 2\n",
        "  elif (node in level[3]):\n",
        "    return 3\n",
        "  elif (node in level[4]):\n",
        "    return 4\n",
        "  else:\n",
        "    return -1\n",
        "\n",
        "# Input    - class label of the CIFAR100 dataset\n",
        "# Function - To find all the children of the given class label using the Tree hierarchy\n",
        "# output   - Returns an list of the labels which are children and returns None if the given label is a leaf\n",
        "def get_children(node):\n",
        "  if node in Tree.keys():\n",
        "    return Tree[node]    \n",
        "  else:\n",
        "    return None\n",
        "\n",
        "# Input    - class label of the CIFAR100 dataset\n",
        "# Function - To find the parent of the given class label using the level and children function.\n",
        "# output   - Returns the parent of the class label\n",
        "def get_parent(node):\n",
        "  l = get_level(node)\n",
        "  if l == 0: \n",
        "    return node\n",
        "  for i in level[l-1]:\n",
        "    if(get_children(i) is not None):\n",
        "      if node in get_children(i):\n",
        "        return i\n",
        "  return None\n",
        "\n",
        "# Input    - class label of the CIFAR100 dataset and the level of the label\n",
        "# Function - finds ancestors of the the given label. \n",
        "# output   - Returns the label itself if given level is greater than the label's level else returns the ancestor at level l\n",
        "def get_ancestor(node, l):\n",
        "  h = get_level(node)\n",
        "  if l >= h:\n",
        "    return node\n",
        "  y = node\n",
        "  for i in range(h-l):\n",
        "    y = get_parent(y)\n",
        "  return y\n",
        "\n",
        "# Input    - class label of the CIFAR100 dataset\n",
        "# Function - To find the descendants of the given class label including the given class label\n",
        "# output   - Returns an list of class labels which are descendants else empty list if the class label is a leaf.\n",
        "def get_descendants(node):\n",
        "  c = get_children(node)\n",
        "  d = []\n",
        "  if c is not None:\n",
        "    for i in c:\n",
        "      d.extend(get_descendants(i)) \n",
        "    return d\n",
        "  else :\n",
        "    return [node] \n",
        "\n",
        "\n",
        "# Input    - two class labels of the CIFAR100 dataset\n",
        "# Function - Finds the distance between the given two nodes\n",
        "# output   - Returns an integer which represents the distance between class labels\n",
        "def tree_loss(node1,node2):\n",
        "  l1 = get_level(node1)\n",
        "  l2 = get_level(node2)\n",
        "  l = min(l1,l2)\n",
        "  while l >= 0:\n",
        "    if get_ancestor(node1,l) == get_ancestor(node2,l):\n",
        "      break\n",
        "    else :\n",
        "      l = l-1\n",
        "  return l1 + l2 - 2*l\n"
      ],
      "metadata": {
        "id": "hyt9gDUnDi7c",
        "execution": {
          "iopub.status.busy": "2022-09-22T11:44:12.054567Z",
          "iopub.execute_input": "2022-09-22T11:44:12.055009Z",
          "iopub.status.idle": "2022-09-22T11:44:12.069900Z",
          "shell.execute_reply.started": "2022-09-22T11:44:12.054969Z",
          "shell.execute_reply": "2022-09-22T11:44:12.068852Z"
        },
        "trusted": true
      },
      "execution_count": null,
      "outputs": []
    },
    {
      "cell_type": "code",
      "source": [
        "def tLoss(output,target,tau_values=[0.5,0.5,0.5,0.5,0.5]):\n",
        "  batch_size = target.size(0)\n",
        "  num_classes = output.size(1)\n",
        "  h = 4\n",
        "  val = None\n",
        "  pred = None\n",
        "  loss = 0\n",
        "  global labels\n",
        "  global level\n",
        "  l1 = logNodesAtLevel[0]\n",
        "  l2 = logNodesAtLevel[1] + l1\n",
        "  l3 = logNodesAtLevel[2] + l2\n",
        "  l4 = logNodesAtLevel[3] + l3\n",
        "  l5 = logNodesAtLevel[4] + l4\n",
        "\n",
        "  # Loop for each example in the batch\n",
        "  for i in range(batch_size):\n",
        "    # t is the actual target of the ith example in the batch\n",
        "    t = target[i]\n",
        "    # Go searching bottom-up in the hierarchy tree\n",
        "    h = 4\n",
        "    while h >= 0:\n",
        "      \n",
        "      # At each level in the bottom-up traversal, we take the minimum of the outputs of nodes \n",
        "      # Based on the height consider the range in the totat set of output nodes of the model\n",
        "      # Get the min value of the absolute values\n",
        "      # If the min val isgreater than the threshold at that level the we break and get class index at level from \n",
        "      # the signs of those outputs are defined in btoi function\n",
        "      values = output.clone().detach()\n",
        "      if h == 4:        \n",
        "        values = values[i,l4:l5]        \n",
        "        val,_ = torch.min(torch.abs(values),0)   \n",
        "        if val >= tau_values[4]:\n",
        "          pred = b2i(values,h)\n",
        "          pred_label = labels[pred]\n",
        "          break\n",
        "\n",
        "      if h == 3:\n",
        "        values = values[i,l3:l4]\n",
        "        val,_ = torch.min(torch.abs(values),0)        \n",
        "        if val >= tau_values[3]:\n",
        "          pred = b2i(values,h)\n",
        "          pred_label = level[h][pred]\n",
        "          break\n",
        "\n",
        "      if h == 2:\n",
        "        values = values[i,l2:l3]\n",
        "        val,_ = torch.min(torch.abs(values),0)        \n",
        "        if val >= tau_values[2]:\n",
        "          pred = b2i(values,h)\n",
        "          pred_label = level[h][pred]\n",
        "          break\n",
        "\n",
        "      if h == 1:\n",
        "        values = values[i,l1:l2]\n",
        "        val,_ = torch.min(torch.abs(values),0)        \n",
        "        if val >= tau_values[1]:\n",
        "          pred = b2i(values,h)\n",
        "          pred_label = level[h][pred]\n",
        "          break\n",
        "\n",
        "      if h == 0:\n",
        "        values = values[i,0:l1]\n",
        "        val,_ = torch.min(torch.abs(values),0)        \n",
        "        if val >= tau_values[0]:\n",
        "          pred = b2i(values,h)\n",
        "          pred_label = level[h][pred]\n",
        "          break \n",
        "          \n",
        "      h = h - 1\n",
        "\n",
        "    # tree_loss() function gives the tree distance between the two nodes\n",
        "    # Total loss for the batch is calculated\n",
        "    loss = loss + tree_loss(labels[t],pred_label)\n",
        "\n",
        "  loss = loss/batch_size\n",
        "\n",
        "  # Average loss for the batch is returned\n",
        "  return loss"
      ],
      "metadata": {
        "id": "ZnZ8kL4kD5Dd",
        "execution": {
          "iopub.status.busy": "2022-09-22T11:44:12.071420Z",
          "iopub.execute_input": "2022-09-22T11:44:12.071928Z",
          "iopub.status.idle": "2022-09-22T11:44:12.087910Z",
          "shell.execute_reply.started": "2022-09-22T11:44:12.071889Z",
          "shell.execute_reply": "2022-09-22T11:44:12.086902Z"
        },
        "trusted": true
      },
      "execution_count": null,
      "outputs": []
    },
    {
      "cell_type": "code",
      "source": [
        "# function to convert integer to binary\n",
        "def itob(target,bits):\n",
        "  encoding=-np.ones(bits)\n",
        "  ''' -1 in place of 0 in binary representation of a number'''\n",
        "  j = bits-1\n",
        "  while(target!=0):\n",
        "    if (target%2)==1 :\n",
        "      encoding[j] = 1\n",
        "    target = target//2\n",
        "    j = j-1\n",
        "  return encoding"
      ],
      "metadata": {
        "id": "W_YKRITDD8F1",
        "execution": {
          "iopub.status.busy": "2022-09-22T11:44:12.089514Z",
          "iopub.execute_input": "2022-09-22T11:44:12.089926Z",
          "iopub.status.idle": "2022-09-22T11:44:12.101332Z",
          "shell.execute_reply.started": "2022-09-22T11:44:12.089890Z",
          "shell.execute_reply": "2022-09-22T11:44:12.100363Z"
        },
        "trusted": true
      },
      "execution_count": null,
      "outputs": []
    },
    {
      "cell_type": "code",
      "source": [
        "#function to convert a batch of binary numbers into integer\n",
        "def btoi(binary,h):\n",
        "  # this is to convert a -1 and 1 to 0 and 1 respectively\n",
        "  batch_size = binary.size(0)\n",
        "  binary = -torch.sign(binary)\n",
        "  bits = logNodesAtLevel[h]\n",
        "  binary = (binary+1)/2\n",
        "  #binary = torch.ceil(binary)\n",
        "\n",
        "  j = bits-1\n",
        "  nodes = [1,2,11,48,100]\n",
        "  #j = bits-1 \n",
        "  decoded_target = torch.zeros(batch_size).to(device)\n",
        "  while j>=0:\n",
        "    decoded_target = decoded_target + binary[:,j] * (2**(bits-j-1))\n",
        "    j = j-1\n",
        "  \n",
        "  return decoded_target\n",
        "\n",
        "#function to convert a single binary number into integer\n",
        "def b2i(binary,h):\n",
        "  batch_size = binary.size(0)\n",
        "  binary = -torch.sign(binary)\n",
        "  bits = logNodesAtLevel[h]\n",
        "  binary = (binary+1)/2\n",
        "  #binary = torch.ceil(binary)\n",
        "  #print(binary.shape)\n",
        "  j = bits-1\n",
        "  nodes = [1,2,11,48,100]\n",
        "\n",
        "  max_label = nodes[h]\n",
        "  decoded_target = 0\n",
        "  while j>=0:\n",
        "    decoded_target = decoded_target + binary[j] * (2**(bits-j-1))\n",
        "    j = j-1\n",
        "  if decoded_target >= max_label:\n",
        "    decoded_target = decoded_target - 2**(bits-1)\n",
        "  return decoded_target.type(torch.LongTensor)"
      ],
      "metadata": {
        "execution": {
          "iopub.status.busy": "2022-09-22T11:44:12.102690Z",
          "iopub.execute_input": "2022-09-22T11:44:12.103125Z",
          "iopub.status.idle": "2022-09-22T11:44:12.114411Z",
          "shell.execute_reply.started": "2022-09-22T11:44:12.103085Z",
          "shell.execute_reply": "2022-09-22T11:44:12.113513Z"
        },
        "trusted": true,
        "id": "NslbgxzSGcYA"
      },
      "execution_count": null,
      "outputs": []
    },
    {
      "cell_type": "code",
      "source": [
        "def target_translate(target):\n",
        "    #print(target)\n",
        "    global labels\n",
        "    global level\n",
        "    global logNodesAtLevel\n",
        "    \n",
        "    translated_target = []  # target is translated into 19 bits (1+1+4+6+7)\n",
        "    # 5 is the height of the tree\n",
        "    target_label = labels[target]\n",
        "    for i in range(4):\n",
        "      ancestor = get_ancestor(target_label,i)\n",
        "      #print(ancestor)\n",
        "      if ancestor==target_label and (ancestor not in level[i]):\n",
        "        print(ancestor)\n",
        "        translated_target.extend(itob(nodesAtLevel[i]+1,logNodesAtLevel[i]))\n",
        "      else:\n",
        "        translated_target.extend(itob(level[i].index(ancestor),logNodesAtLevel[i]))\n",
        "        \n",
        "    translated_target.extend(itob(target,logNodesAtLevel[4]))\n",
        "    translated_target = torch.FloatTensor(translated_target)\n",
        "\n",
        "    return target, translated_target"
      ],
      "metadata": {
        "execution": {
          "iopub.status.busy": "2022-09-22T11:44:12.119277Z",
          "iopub.execute_input": "2022-09-22T11:44:12.119543Z",
          "iopub.status.idle": "2022-09-22T11:44:12.127831Z",
          "shell.execute_reply.started": "2022-09-22T11:44:12.119512Z",
          "shell.execute_reply": "2022-09-22T11:44:12.126845Z"
        },
        "trusted": true,
        "id": "mjhch0ApGcYB"
      },
      "execution_count": null,
      "outputs": []
    },
    {
      "cell_type": "code",
      "source": [
        "# Define transforms for data augmentation\n",
        "\n",
        "transform_train = transforms.Compose([\n",
        "    transforms.RandomCrop(32, padding=4),\n",
        "    transforms.RandomHorizontalFlip(),\n",
        "    transforms.ToTensor(),\n",
        "    transforms.Normalize(mean=[0.5071, 0.4867, 0.4408], std=[0.2675, 0.2565, 0.2761])\n",
        "])\n",
        "\n",
        "transform_test = transforms.Compose([\n",
        "    transforms.ToTensor(),\n",
        "    transforms.Normalize(mean=[0.5071, 0.4867, 0.4408], std=[0.2675, 0.2565, 0.2761])\n",
        "]) \n",
        "\n",
        "dataset = datasets.CIFAR100(root='data/', train=True, download=True, transform=transform_train,target_transform=target_translate)\n",
        "test_dataset = datasets.CIFAR100(root='data/', train=False, download=True, transform=transform_test,target_transform=target_translate)\n",
        "\n",
        "\n",
        "val_size = 5000\n",
        "train_size = len(dataset) - val_size\n",
        "train_ds, val_ds = random_split(dataset, [train_size, val_size])\n",
        "batch_size=256\n",
        "\n",
        "train_loader = DataLoader(train_ds, batch_size, shuffle=True, num_workers=4)\n",
        "valid_loader = DataLoader(val_ds, batch_size, num_workers=4)\n",
        "test_loader = DataLoader(test_dataset, batch_size, num_workers=4)\n"
      ],
      "metadata": {
        "execution": {
          "iopub.status.busy": "2022-09-22T11:44:12.129237Z",
          "iopub.execute_input": "2022-09-22T11:44:12.129773Z",
          "iopub.status.idle": "2022-09-22T11:44:13.965034Z",
          "shell.execute_reply.started": "2022-09-22T11:44:12.129739Z",
          "shell.execute_reply": "2022-09-22T11:44:13.964042Z"
        },
        "trusted": true,
        "colab": {
          "base_uri": "https://localhost:8080/"
        },
        "id": "SCNDpeAGGcYB",
        "outputId": "cbed86b7-c761-49a0-974d-0a8db72af6a8"
      },
      "execution_count": null,
      "outputs": [
        {
          "output_type": "stream",
          "name": "stdout",
          "text": [
            "Files already downloaded and verified\n",
            "Files already downloaded and verified\n"
          ]
        }
      ]
    },
    {
      "cell_type": "code",
      "source": [
        "num_classes = 19\n",
        "num_epochs = 50"
      ],
      "metadata": {
        "id": "CQcVrz_VFj2d",
        "execution": {
          "iopub.status.busy": "2022-09-22T11:44:13.966400Z",
          "iopub.execute_input": "2022-09-22T11:44:13.967105Z",
          "iopub.status.idle": "2022-09-22T11:44:13.973109Z",
          "shell.execute_reply.started": "2022-09-22T11:44:13.967069Z",
          "shell.execute_reply": "2022-09-22T11:44:13.970830Z"
        },
        "trusted": true
      },
      "execution_count": null,
      "outputs": []
    },
    {
      "cell_type": "code",
      "source": [
        "class BEP_Loss(torch.nn.Module):\n",
        "  def __init__(self):\n",
        "        super(BEP_Loss,self).__init__()\n",
        "        \n",
        "  def forward(self,y_p,y_t):\n",
        "    \n",
        "    batch_size = y_p.size(0)  # shape of y_p is batch_size * 19\n",
        "\n",
        "    z = y_p*y_t              # shape of z is batch_size * 19\n",
        "\n",
        "    start = 0   \n",
        "    loss = 0 \n",
        "    zeros = torch.zeros(batch_size).to(device) #shape of zeros is batch_size\n",
        "    \n",
        "    for i in range(5):\n",
        "      t1 = z[:,start:start+logNodesAtLevel[i]]\n",
        "      w,_ = torch.max(t1,1)\n",
        "      w1 = torch.max(w+1,zeros)\n",
        "      loss = loss + torch.sum(w1)\n",
        "      start = start+logNodesAtLevel[i]\n",
        "\n",
        "    loss = loss/batch_size\n",
        "    return loss"
      ],
      "metadata": {
        "id": "r_N8KAr1GOPg",
        "execution": {
          "iopub.status.busy": "2022-09-22T11:44:13.974486Z",
          "iopub.execute_input": "2022-09-22T11:44:13.975336Z",
          "iopub.status.idle": "2022-09-22T11:44:13.984354Z",
          "shell.execute_reply.started": "2022-09-22T11:44:13.975298Z",
          "shell.execute_reply": "2022-09-22T11:44:13.983362Z"
        },
        "trusted": true
      },
      "execution_count": null,
      "outputs": []
    },
    {
      "cell_type": "code",
      "source": [
        "# Load pre-trained ResNet18 model\n",
        "resnet18 = models.resnet18(pretrained=True)\n",
        "resnet18.conv1 = nn.Conv2d(3, 64, kernel_size = (3,3), padding = (1, 1), bias = False)\n",
        "resnet18.maxpool = nn.Identity()\n",
        "\n",
        "# Freeze all layers except for the last one\n",
        "for param in resnet18.parameters():\n",
        "    param.requires_grad = True\n",
        "resnet18.fc = nn.Linear(512, 19)\n",
        "\n",
        "resnet18.to(device)"
      ],
      "metadata": {
        "id": "d076aP16Fj_T",
        "execution": {
          "iopub.status.busy": "2022-09-22T11:44:13.985797Z",
          "iopub.execute_input": "2022-09-22T11:44:13.986219Z",
          "iopub.status.idle": "2022-09-22T11:44:13.996743Z",
          "shell.execute_reply.started": "2022-09-22T11:44:13.986175Z",
          "shell.execute_reply": "2022-09-22T11:44:13.995570Z"
        },
        "trusted": true,
        "colab": {
          "base_uri": "https://localhost:8080/"
        },
        "outputId": "d6f94364-04d8-4e95-ff10-279f6b4a595a"
      },
      "execution_count": null,
      "outputs": [
        {
          "output_type": "execute_result",
          "data": {
            "text/plain": [
              "ResNet(\n",
              "  (conv1): Conv2d(3, 64, kernel_size=(3, 3), stride=(1, 1), padding=(1, 1), bias=False)\n",
              "  (bn1): BatchNorm2d(64, eps=1e-05, momentum=0.1, affine=True, track_running_stats=True)\n",
              "  (relu): ReLU(inplace=True)\n",
              "  (maxpool): Identity()\n",
              "  (layer1): Sequential(\n",
              "    (0): BasicBlock(\n",
              "      (conv1): Conv2d(64, 64, kernel_size=(3, 3), stride=(1, 1), padding=(1, 1), bias=False)\n",
              "      (bn1): BatchNorm2d(64, eps=1e-05, momentum=0.1, affine=True, track_running_stats=True)\n",
              "      (relu): ReLU(inplace=True)\n",
              "      (conv2): Conv2d(64, 64, kernel_size=(3, 3), stride=(1, 1), padding=(1, 1), bias=False)\n",
              "      (bn2): BatchNorm2d(64, eps=1e-05, momentum=0.1, affine=True, track_running_stats=True)\n",
              "    )\n",
              "    (1): BasicBlock(\n",
              "      (conv1): Conv2d(64, 64, kernel_size=(3, 3), stride=(1, 1), padding=(1, 1), bias=False)\n",
              "      (bn1): BatchNorm2d(64, eps=1e-05, momentum=0.1, affine=True, track_running_stats=True)\n",
              "      (relu): ReLU(inplace=True)\n",
              "      (conv2): Conv2d(64, 64, kernel_size=(3, 3), stride=(1, 1), padding=(1, 1), bias=False)\n",
              "      (bn2): BatchNorm2d(64, eps=1e-05, momentum=0.1, affine=True, track_running_stats=True)\n",
              "    )\n",
              "  )\n",
              "  (layer2): Sequential(\n",
              "    (0): BasicBlock(\n",
              "      (conv1): Conv2d(64, 128, kernel_size=(3, 3), stride=(2, 2), padding=(1, 1), bias=False)\n",
              "      (bn1): BatchNorm2d(128, eps=1e-05, momentum=0.1, affine=True, track_running_stats=True)\n",
              "      (relu): ReLU(inplace=True)\n",
              "      (conv2): Conv2d(128, 128, kernel_size=(3, 3), stride=(1, 1), padding=(1, 1), bias=False)\n",
              "      (bn2): BatchNorm2d(128, eps=1e-05, momentum=0.1, affine=True, track_running_stats=True)\n",
              "      (downsample): Sequential(\n",
              "        (0): Conv2d(64, 128, kernel_size=(1, 1), stride=(2, 2), bias=False)\n",
              "        (1): BatchNorm2d(128, eps=1e-05, momentum=0.1, affine=True, track_running_stats=True)\n",
              "      )\n",
              "    )\n",
              "    (1): BasicBlock(\n",
              "      (conv1): Conv2d(128, 128, kernel_size=(3, 3), stride=(1, 1), padding=(1, 1), bias=False)\n",
              "      (bn1): BatchNorm2d(128, eps=1e-05, momentum=0.1, affine=True, track_running_stats=True)\n",
              "      (relu): ReLU(inplace=True)\n",
              "      (conv2): Conv2d(128, 128, kernel_size=(3, 3), stride=(1, 1), padding=(1, 1), bias=False)\n",
              "      (bn2): BatchNorm2d(128, eps=1e-05, momentum=0.1, affine=True, track_running_stats=True)\n",
              "    )\n",
              "  )\n",
              "  (layer3): Sequential(\n",
              "    (0): BasicBlock(\n",
              "      (conv1): Conv2d(128, 256, kernel_size=(3, 3), stride=(2, 2), padding=(1, 1), bias=False)\n",
              "      (bn1): BatchNorm2d(256, eps=1e-05, momentum=0.1, affine=True, track_running_stats=True)\n",
              "      (relu): ReLU(inplace=True)\n",
              "      (conv2): Conv2d(256, 256, kernel_size=(3, 3), stride=(1, 1), padding=(1, 1), bias=False)\n",
              "      (bn2): BatchNorm2d(256, eps=1e-05, momentum=0.1, affine=True, track_running_stats=True)\n",
              "      (downsample): Sequential(\n",
              "        (0): Conv2d(128, 256, kernel_size=(1, 1), stride=(2, 2), bias=False)\n",
              "        (1): BatchNorm2d(256, eps=1e-05, momentum=0.1, affine=True, track_running_stats=True)\n",
              "      )\n",
              "    )\n",
              "    (1): BasicBlock(\n",
              "      (conv1): Conv2d(256, 256, kernel_size=(3, 3), stride=(1, 1), padding=(1, 1), bias=False)\n",
              "      (bn1): BatchNorm2d(256, eps=1e-05, momentum=0.1, affine=True, track_running_stats=True)\n",
              "      (relu): ReLU(inplace=True)\n",
              "      (conv2): Conv2d(256, 256, kernel_size=(3, 3), stride=(1, 1), padding=(1, 1), bias=False)\n",
              "      (bn2): BatchNorm2d(256, eps=1e-05, momentum=0.1, affine=True, track_running_stats=True)\n",
              "    )\n",
              "  )\n",
              "  (layer4): Sequential(\n",
              "    (0): BasicBlock(\n",
              "      (conv1): Conv2d(256, 512, kernel_size=(3, 3), stride=(2, 2), padding=(1, 1), bias=False)\n",
              "      (bn1): BatchNorm2d(512, eps=1e-05, momentum=0.1, affine=True, track_running_stats=True)\n",
              "      (relu): ReLU(inplace=True)\n",
              "      (conv2): Conv2d(512, 512, kernel_size=(3, 3), stride=(1, 1), padding=(1, 1), bias=False)\n",
              "      (bn2): BatchNorm2d(512, eps=1e-05, momentum=0.1, affine=True, track_running_stats=True)\n",
              "      (downsample): Sequential(\n",
              "        (0): Conv2d(256, 512, kernel_size=(1, 1), stride=(2, 2), bias=False)\n",
              "        (1): BatchNorm2d(512, eps=1e-05, momentum=0.1, affine=True, track_running_stats=True)\n",
              "      )\n",
              "    )\n",
              "    (1): BasicBlock(\n",
              "      (conv1): Conv2d(512, 512, kernel_size=(3, 3), stride=(1, 1), padding=(1, 1), bias=False)\n",
              "      (bn1): BatchNorm2d(512, eps=1e-05, momentum=0.1, affine=True, track_running_stats=True)\n",
              "      (relu): ReLU(inplace=True)\n",
              "      (conv2): Conv2d(512, 512, kernel_size=(3, 3), stride=(1, 1), padding=(1, 1), bias=False)\n",
              "      (bn2): BatchNorm2d(512, eps=1e-05, momentum=0.1, affine=True, track_running_stats=True)\n",
              "    )\n",
              "  )\n",
              "  (avgpool): AdaptiveAvgPool2d(output_size=(1, 1))\n",
              "  (fc): Linear(in_features=512, out_features=19, bias=True)\n",
              ")"
            ]
          },
          "metadata": {},
          "execution_count": 35
        }
      ]
    },
    {
      "cell_type": "code",
      "source": [
        "# model = VGGForCiFar100(n_classes=19).to(device)\n",
        "# criterion = BEP_Loss().to(device)\n",
        "# accuracy = Accuracy(num_classes=num_classes).to(device)\n",
        "# optimizer = Ranger(model.parameters(), lr=1e-3, weight_decay=1e-4) \n",
        "# scheduler = CyclicLR(optimizer, base_lr=1e-6, max_lr=1e-3, step_size_up=len(train_loader)//2, cycle_momentum=False)\n",
        "\n",
        "# Define loss function and optimizer\n",
        "\n",
        "criterion = BEP_Loss().to(device)\n",
        "accuracy = Accuracy(task=\"multiclass\",num_classes=num_classes).to(device)\n",
        "optimizer = optim.Adam(resnet18.parameters(), lr=0.001)\n",
        "# optimizer = Ranger(resnet18.parameters(), lr=1e-3, weight_decay=1e-4) \n",
        "scheduler = CyclicLR(optimizer, base_lr=1e-6, max_lr=1e-3, step_size_up=len(train_loader)//2, cycle_momentum=False)"
      ],
      "metadata": {
        "execution": {
          "iopub.status.busy": "2022-09-22T12:05:09.793855Z",
          "iopub.execute_input": "2022-09-22T12:05:09.794256Z",
          "iopub.status.idle": "2022-09-22T12:05:12.812737Z",
          "shell.execute_reply.started": "2022-09-22T12:05:09.794217Z",
          "shell.execute_reply": "2022-09-22T12:05:12.811758Z"
        },
        "trusted": true,
        "id": "lJWBUioIGcYC"
      },
      "execution_count": null,
      "outputs": []
    },
    {
      "cell_type": "code",
      "source": [
        "def get_accuracy(output, target):\n",
        "\n",
        "  batch_size = target.size(0)\n",
        "  \n",
        "  #checking the values of logm labels\n",
        "  pred=btoi(output[:,12:19],4)\n",
        "\n",
        "  correct = pred==target\n",
        "\n",
        "  return correct.float().sum()/batch_size"
      ],
      "metadata": {
        "id": "-70pu4nzGs9Y",
        "execution": {
          "iopub.status.busy": "2022-09-22T12:05:22.164996Z",
          "iopub.execute_input": "2022-09-22T12:05:22.165381Z",
          "iopub.status.idle": "2022-09-22T12:05:22.170533Z",
          "shell.execute_reply.started": "2022-09-22T12:05:22.165351Z",
          "shell.execute_reply": "2022-09-22T12:05:22.169612Z"
        },
        "trusted": true
      },
      "execution_count": null,
      "outputs": []
    },
    {
      "cell_type": "code",
      "source": [
        "#Training\n",
        "\n",
        "total_train_step = len(train_loader)\n",
        "total_val_step=len(valid_loader)\n",
        "\n",
        "BEST_VAL_METRIC = 0\n",
        "BEST_MODEL = None\n",
        "\n",
        "\n",
        "for epoch in range(1, num_epochs+1):\n",
        "\n",
        "    train_loss=0\n",
        "    train_acc=0.0\n",
        "    resnet18.train()\n",
        "\n",
        "    for i, (images, target) in enumerate(train_loader, 1):\n",
        "        \n",
        "        y_true = target[0]\n",
        "        y_trans = target[1]\n",
        "\n",
        "        # Move tensors to the configured device\n",
        "        images = images.to(device)\n",
        "        y_true = y_true.to(device)\n",
        "        y_trans = y_trans.to(device)\n",
        "        \n",
        "        # Forward pass\n",
        "        outputs = resnet18(images)\n",
        "        loss = criterion(outputs, y_trans)\n",
        "\n",
        "        train_loss += loss\n",
        "        train_acc += get_accuracy(outputs,y_true)\n",
        "        #train_acc += accuracy(btoi(outputs[:,12:19],4), y_true)\n",
        "        \n",
        "        \n",
        "        # Backward and optimize\n",
        "        loss.backward()\n",
        "        optimizer.step()\n",
        "        scheduler.step()\n",
        "        optimizer.zero_grad()\n",
        "      \n",
        "    print(f'Epoch [{epoch}/{num_epochs}] - Loss: {(train_loss/total_train_step):.4f}, Accuracy: {(train_acc/total_train_step):.4f}')\n",
        "    \n",
        "    # Validation\n",
        "    \n",
        "    resnet18.eval() \n",
        "    \n",
        "    with torch.no_grad():\n",
        "        val_acc = 0\n",
        "        val_loss=0\n",
        "        Tree_Loss_Value = 0\n",
        "        for i, (images, target) in enumerate(valid_loader, 1):\n",
        "\n",
        "            y_true = target[0]\n",
        "            y_trans = target[1]\n",
        "\n",
        "            # Move tensors to the configured device\n",
        "            images = images.to(device)\n",
        "            y_true = y_true.to(device)\n",
        "            y_trans = y_trans.to(device)\n",
        "\n",
        "            outputs = resnet18(images)\n",
        "            val_loss += criterion(outputs, y_trans)\n",
        "            Tree_Loss_Value += tLoss(outputs,y_true)\n",
        "            val_acc += get_accuracy(outputs,y_true)\n",
        "            #val_acc += accuracy(btoi(outputs[:,12:19],4), y_true)\n",
        "\n",
        "    if val_acc/total_val_step > BEST_VAL_METRIC:\n",
        "        BEST_VAL_METRIC = val_acc/total_val_step\n",
        "        BEST_MODEL = resnet18.state_dict() \n",
        "        #torch.save(resnet18, \"/content/drive/MyDrive/MTP_Phase2/saved_models/resnet18_BEPCascade_cifar100_AdamOPT.pth\")\n",
        "        torch.save(resnet18, \"/content/drive/MyDrive/Ruheena/MTP/saved_models/resnet18_BEPCascade_cifar100_AdamOPT.pth\")\n",
        "\n",
        "    print(f'Accuracy of the network on validation images: {(val_acc/total_val_step):.4f}, loss: {(val_loss/total_val_step):.4f}, Tree loss: {(Tree_Loss_Value/total_val_step):.4f}') \n"
      ],
      "metadata": {
        "id": "TV6rcoBlHDfA",
        "execution": {
          "iopub.status.busy": "2022-09-22T12:05:27.140401Z",
          "iopub.execute_input": "2022-09-22T12:05:27.140787Z",
          "iopub.status.idle": "2022-09-22T12:05:28.686588Z",
          "shell.execute_reply.started": "2022-09-22T12:05:27.140753Z",
          "shell.execute_reply": "2022-09-22T12:05:28.685012Z"
        },
        "trusted": true,
        "colab": {
          "base_uri": "https://localhost:8080/"
        },
        "outputId": "842367a8-5ddc-4392-ac34-ce3632ff9173"
      },
      "execution_count": null,
      "outputs": [
        {
          "output_type": "stream",
          "name": "stdout",
          "text": [
            "Epoch [1/50] - Loss: 3.9882, Accuracy: 0.0141\n",
            "Accuracy of the network on validation images: 0.0288, loss: 3.1778, Tree loss: 2.7737\n",
            "Epoch [2/50] - Loss: 3.1356, Accuracy: 0.0366\n",
            "Accuracy of the network on validation images: 0.0927, loss: 2.8841, Tree loss: 2.4843\n",
            "Epoch [3/50] - Loss: 2.8386, Accuracy: 0.0909\n",
            "Accuracy of the network on validation images: 0.1528, loss: 2.6043, Tree loss: 2.1811\n",
            "Epoch [4/50] - Loss: 2.5882, Accuracy: 0.1552\n",
            "Accuracy of the network on validation images: 0.2297, loss: 2.3791, Tree loss: 1.9917\n",
            "Epoch [5/50] - Loss: 2.3726, Accuracy: 0.2177\n",
            "Accuracy of the network on validation images: 0.2683, loss: 2.2181, Tree loss: 1.8466\n",
            "Epoch [6/50] - Loss: 2.2359, Accuracy: 0.2595\n",
            "Accuracy of the network on validation images: 0.3208, loss: 2.1217, Tree loss: 1.7622\n",
            "Epoch [7/50] - Loss: 2.1010, Accuracy: 0.3096\n",
            "Accuracy of the network on validation images: 0.3672, loss: 2.0126, Tree loss: 1.6561\n",
            "Epoch [8/50] - Loss: 1.9561, Accuracy: 0.3520\n",
            "Accuracy of the network on validation images: 0.4010, loss: 1.9287, Tree loss: 1.5966\n",
            "Epoch [9/50] - Loss: 1.8369, Accuracy: 0.3902\n",
            "Accuracy of the network on validation images: 0.4457, loss: 1.8339, Tree loss: 1.5124\n",
            "Epoch [10/50] - Loss: 1.7493, Accuracy: 0.4300\n",
            "Accuracy of the network on validation images: 0.4724, loss: 1.7800, Tree loss: 1.4782\n",
            "Epoch [11/50] - Loss: 1.6498, Accuracy: 0.4643\n",
            "Accuracy of the network on validation images: 0.5100, loss: 1.7054, Tree loss: 1.4124\n",
            "Epoch [12/50] - Loss: 1.5440, Accuracy: 0.5009\n",
            "Accuracy of the network on validation images: 0.5226, loss: 1.6636, Tree loss: 1.3508\n",
            "Epoch [13/50] - Loss: 1.4739, Accuracy: 0.5335\n",
            "Accuracy of the network on validation images: 0.5493, loss: 1.5910, Tree loss: 1.2876\n",
            "Epoch [14/50] - Loss: 1.4028, Accuracy: 0.5574\n",
            "Accuracy of the network on validation images: 0.5757, loss: 1.5984, Tree loss: 1.2733\n",
            "Epoch [15/50] - Loss: 1.3388, Accuracy: 0.5894\n",
            "Accuracy of the network on validation images: 0.5882, loss: 1.5492, Tree loss: 1.2414\n",
            "Epoch [16/50] - Loss: 1.2655, Accuracy: 0.6144\n",
            "Accuracy of the network on validation images: 0.6035, loss: 1.5216, Tree loss: 1.2029\n",
            "Epoch [17/50] - Loss: 1.1954, Accuracy: 0.6351\n",
            "Accuracy of the network on validation images: 0.6076, loss: 1.4998, Tree loss: 1.1850\n",
            "Epoch [18/50] - Loss: 1.1447, Accuracy: 0.6495\n",
            "Accuracy of the network on validation images: 0.6229, loss: 1.4707, Tree loss: 1.1551\n",
            "Epoch [19/50] - Loss: 1.0878, Accuracy: 0.6661\n",
            "Accuracy of the network on validation images: 0.6207, loss: 1.4792, Tree loss: 1.1452\n",
            "Epoch [20/50] - Loss: 1.0582, Accuracy: 0.6732\n",
            "Accuracy of the network on validation images: 0.6283, loss: 1.4697, Tree loss: 1.1389\n",
            "Epoch [21/50] - Loss: 1.0122, Accuracy: 0.6872\n",
            "Accuracy of the network on validation images: 0.6387, loss: 1.4402, Tree loss: 1.1169\n",
            "Epoch [22/50] - Loss: 0.9810, Accuracy: 0.6990\n",
            "Accuracy of the network on validation images: 0.6318, loss: 1.4706, Tree loss: 1.1341\n",
            "Epoch [23/50] - Loss: 0.9404, Accuracy: 0.7108\n",
            "Accuracy of the network on validation images: 0.6482, loss: 1.4152, Tree loss: 1.0849\n",
            "Epoch [24/50] - Loss: 0.9084, Accuracy: 0.7198\n",
            "Accuracy of the network on validation images: 0.6451, loss: 1.4644, Tree loss: 1.1034\n",
            "Epoch [25/50] - Loss: 0.8736, Accuracy: 0.7295\n",
            "Accuracy of the network on validation images: 0.6473, loss: 1.4508, Tree loss: 1.0806\n",
            "Epoch [26/50] - Loss: 0.8418, Accuracy: 0.7359\n",
            "Accuracy of the network on validation images: 0.6538, loss: 1.4517, Tree loss: 1.0870\n",
            "Epoch [27/50] - Loss: 0.8169, Accuracy: 0.7481\n",
            "Accuracy of the network on validation images: 0.6561, loss: 1.4207, Tree loss: 1.0560\n",
            "Epoch [28/50] - Loss: 0.7942, Accuracy: 0.7533\n",
            "Accuracy of the network on validation images: 0.6559, loss: 1.4416, Tree loss: 1.0676\n",
            "Epoch [29/50] - Loss: 0.7744, Accuracy: 0.7604\n",
            "Accuracy of the network on validation images: 0.6625, loss: 1.4175, Tree loss: 1.0485\n",
            "Epoch [30/50] - Loss: 0.7465, Accuracy: 0.7689\n",
            "Accuracy of the network on validation images: 0.6705, loss: 1.4393, Tree loss: 1.0537\n",
            "Epoch [31/50] - Loss: 0.7335, Accuracy: 0.7744\n",
            "Accuracy of the network on validation images: 0.6643, loss: 1.4511, Tree loss: 1.0462\n",
            "Epoch [32/50] - Loss: 0.7009, Accuracy: 0.7820\n",
            "Accuracy of the network on validation images: 0.6783, loss: 1.4273, Tree loss: 1.0289\n",
            "Epoch [33/50] - Loss: 0.6650, Accuracy: 0.7898\n",
            "Accuracy of the network on validation images: 0.6778, loss: 1.4608, Tree loss: 1.0373\n",
            "Epoch [34/50] - Loss: 0.6646, Accuracy: 0.7941\n",
            "Accuracy of the network on validation images: 0.6779, loss: 1.4321, Tree loss: 1.0354\n",
            "Epoch [35/50] - Loss: 0.6336, Accuracy: 0.8005\n",
            "Accuracy of the network on validation images: 0.6822, loss: 1.3967, Tree loss: 0.9896\n",
            "Epoch [36/50] - Loss: 0.6192, Accuracy: 0.8043\n",
            "Accuracy of the network on validation images: 0.6719, loss: 1.4752, Tree loss: 1.0445\n",
            "Epoch [37/50] - Loss: 0.5997, Accuracy: 0.8098\n",
            "Accuracy of the network on validation images: 0.6790, loss: 1.4458, Tree loss: 1.0224\n",
            "Epoch [38/50] - Loss: 0.5911, Accuracy: 0.8143\n",
            "Accuracy of the network on validation images: 0.6872, loss: 1.4062, Tree loss: 0.9895\n",
            "Epoch [39/50] - Loss: 0.5805, Accuracy: 0.8173\n",
            "Accuracy of the network on validation images: 0.6812, loss: 1.4775, Tree loss: 1.0192\n",
            "Epoch [40/50] - Loss: 0.5632, Accuracy: 0.8227\n",
            "Accuracy of the network on validation images: 0.6844, loss: 1.4478, Tree loss: 1.0050\n",
            "Epoch [41/50] - Loss: 0.5447, Accuracy: 0.8275\n",
            "Accuracy of the network on validation images: 0.6970, loss: 1.4341, Tree loss: 0.9767\n",
            "Epoch [42/50] - Loss: 0.5419, Accuracy: 0.8273\n",
            "Accuracy of the network on validation images: 0.6873, loss: 1.4876, Tree loss: 1.0134\n",
            "Epoch [43/50] - Loss: 0.5181, Accuracy: 0.8349\n",
            "Accuracy of the network on validation images: 0.6945, loss: 1.4580, Tree loss: 0.9962\n",
            "Epoch [44/50] - Loss: 0.5107, Accuracy: 0.8393\n",
            "Accuracy of the network on validation images: 0.6970, loss: 1.4695, Tree loss: 0.9901\n",
            "Epoch [45/50] - Loss: 0.5092, Accuracy: 0.8416\n",
            "Accuracy of the network on validation images: 0.6840, loss: 1.4938, Tree loss: 0.9909\n",
            "Epoch [46/50] - Loss: 0.5054, Accuracy: 0.8419\n",
            "Accuracy of the network on validation images: 0.6903, loss: 1.5128, Tree loss: 1.0168\n",
            "Epoch [47/50] - Loss: 0.4817, Accuracy: 0.8502\n",
            "Accuracy of the network on validation images: 0.6960, loss: 1.4666, Tree loss: 1.0064\n",
            "Epoch [48/50] - Loss: 0.4881, Accuracy: 0.8502\n",
            "Accuracy of the network on validation images: 0.6939, loss: 1.4875, Tree loss: 0.9933\n",
            "Epoch [49/50] - Loss: 0.4560, Accuracy: 0.8562\n",
            "Accuracy of the network on validation images: 0.6943, loss: 1.5309, Tree loss: 1.0065\n",
            "Epoch [50/50] - Loss: 0.4394, Accuracy: 0.8606\n",
            "Accuracy of the network on validation images: 0.6937, loss: 1.4996, Tree loss: 1.0014\n"
          ]
        }
      ]
    },
    {
      "cell_type": "code",
      "source": [
        "\n",
        "#Testing\n",
        "resnet18.load_state_dict(BEST_MODEL)\n",
        "\n",
        "total_test_step=len(test_loader)\n",
        "\n",
        "with torch.no_grad():\n",
        "    test_acc=0\n",
        "    test_loss=0\n",
        "    Tree_Loss_Value=0\n",
        "\n",
        "    for i, (images, target) in enumerate(test_loader, 1):\n",
        "        \n",
        "        y_true = target[0]\n",
        "        y_trans = target[1]\n",
        "        \n",
        "        images = images.to(device)\n",
        "        y_true = y_true.to(device)\n",
        "        y_trans = y_trans.to(device)\n",
        "\n",
        "        # Forward pass\n",
        "        outputs = resnet18(images)\n",
        "        \n",
        "        # Loss\n",
        "        test_loss += criterion(outputs,y_trans)\n",
        "        Tree_Loss_Value += tLoss(outputs,y_true)\n",
        "        test_acc += get_accuracy(outputs, y_true)\n",
        "\n",
        "    print(f'Accuracy of the network on test images: {(test_acc/total_test_step):.4f}, loss: {(test_loss/total_test_step):.4f}, Tree loss: {(Tree_Loss_Value/total_test_step):.4f}')"
      ],
      "metadata": {
        "execution": {
          "iopub.status.busy": "2022-09-22T12:04:58.949898Z",
          "iopub.status.idle": "2022-09-22T12:04:58.950661Z",
          "shell.execute_reply.started": "2022-09-22T12:04:58.950401Z",
          "shell.execute_reply": "2022-09-22T12:04:58.950429Z"
        },
        "trusted": true,
        "colab": {
          "base_uri": "https://localhost:8080/"
        },
        "id": "CbirVi5kGcYD",
        "outputId": "376f48bc-7b88-42a3-9a35-eed98091645d"
      },
      "execution_count": null,
      "outputs": [
        {
          "output_type": "stream",
          "name": "stdout",
          "text": [
            "Accuracy of the network on test images: 0.7045, loss: 1.4933, Tree loss: 0.9511\n"
          ]
        }
      ]
    }
  ]
}